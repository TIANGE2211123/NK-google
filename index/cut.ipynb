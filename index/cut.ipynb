{
 "cells": [
  {
   "cell_type": "code",
   "execution_count": 4,
   "metadata": {
    "ExecuteTime": {
     "end_time": "2023-11-30T16:17:48.721068Z",
     "start_time": "2023-11-30T16:17:46.623934Z"
    },
    "collapsed": true
   },
   "outputs": [],
   "source": [
    "import pandas as pd\n",
    "import numpy as np\n",
    "import re\n",
    "from jieba import cut_for_search"
   ]
  },
  {
   "cell_type": "code",
   "execution_count": 11,
   "metadata": {
    "ExecuteTime": {
     "end_time": "2023-11-30T16:17:52.650518Z",
     "start_time": "2023-11-30T16:17:52.172532Z"
    },
    "collapsed": false
   },
   "outputs": [],
   "source": [
    "# 读取进行数据预处理后的HTML文档全部信息\n",
    "data = pd.read_csv(\"../spider/nku_allinfo.csv\")\n",
    "data1 = pd.read_csv(\"../spider/tju_allinfo.csv\")"
   ]
  },
  {
   "cell_type": "code",
   "execution_count": 6,
   "metadata": {
    "ExecuteTime": {
     "end_time": "2023-11-30T16:37:36.525335Z",
     "start_time": "2023-11-30T16:37:36.505061Z"
    },
    "collapsed": false
   },
   "outputs": [],
   "source": [
    "# 禁用标点符号以及一些特殊字符\n",
    "punctuations = '＂＃＄/■★─◎◆●▲％＆＇（）)(-①②③④⑤⑥＊＋，－／：；＜＝＞＠［＼］＾＿｀｛｜｝～｟｠｢｣､\\u3000、〃〈〉《》「」『』【】〔〕〖〗〘〙〚〛〜〝〞〟〰〾〿–—‘’‛“”„‟…‧﹏﹑﹔·！？｡。'"
   ]
  },
  {
   "cell_type": "code",
   "execution_count": 7,
   "metadata": {
    "ExecuteTime": {
     "end_time": "2023-11-30T16:37:39.489588Z",
     "start_time": "2023-11-30T16:37:39.460396Z"
    },
    "collapsed": false
   },
   "outputs": [],
   "source": [
    "def cut_html(data=data):\n",
    "    # 用于存储分词后的结果\n",
    "    cutted = []\n",
    "    # 一次处理一行，对标题、描述、正文进行分词\n",
    "    for i in range(len(data)):\n",
    "        info = data.iloc[i]\n",
    "        title = list(cut_for_search(info.title))\n",
    "        description,content = str(info.description),str(info.content)\n",
    "        if description is not None:\n",
    "            description = list(cut_for_search(description))\n",
    "        if content is not None:\n",
    "            content = list(cut_for_search(content))\n",
    "        # 接下来把分词后的列表以字符串方式存储，并忽略无意义的标点符号\n",
    "        title = (re.sub(rf\"[{punctuations}]\", '', '#'.join(title)).replace('-', '')).split('#')\n",
    "        # 然后把新的分词结果按空格分割组合成新的字符串\n",
    "        title = ' '.join([word for word in title if (word != '' and word != ' ')])\n",
    "        # 描述以及文档正文处理同理\n",
    "        if description is not None:\n",
    "            description = re.sub(rf\"[{punctuations}]\", '', '#'.join(description)).split('#')\n",
    "            description = ' '.join([word for word in description if (word != '' and word != ' ')])\n",
    "        if content is not None and content != np.nan:\n",
    "            content = re.sub(rf\"[{punctuations}]\", '', '#'.join(content)).split('#')\n",
    "            content = ' '.join([word for word in content if (word != '' and word != ' ')])\n",
    "        ls = [info.url,title,description,info.date,content,info.editor]\n",
    "        cutted.append(ls)\n",
    "    return cutted\n"
   ]
  },
  {
   "cell_type": "code",
   "execution_count": 14,
   "metadata": {
    "ExecuteTime": {
     "end_time": "2023-11-30T16:38:05.459966Z",
     "start_time": "2023-11-30T16:37:40.206379Z"
    },
    "collapsed": false
   },
   "outputs": [
    {
     "name": "stdout",
     "output_type": "stream",
     "text": [
      "                                          url                        title  \\\n",
      "0       http://news.nankai.edu.cn/index.shtml  南开 开大 大学 南开大学 南开 开大 大学 南开大学   \n",
      "1  http://news.nankai.edu.cn/gynk/index.shtml                        光影 南开   \n",
      "2  http://news.nankai.edu.cn/mtnk/index.shtml                        媒体 南开   \n",
      "3                   https://xs.nankai.edu.cn/           南开 开大 大学 南开大学 校史 网   \n",
      "4  http://news.nankai.edu.cn/ywsd/index.shtml                        南开 要闻   \n",
      "\n",
      "  description          date content  \\\n",
      "0                       NaN           \n",
      "1              1.727798e+09           \n",
      "2              1.730477e+09           \n",
      "3                       NaN           \n",
      "4              1.730477e+09           \n",
      "\n",
      "                                              editor  \n",
      "0                                                NaN  \n",
      "1                                                NaN  \n",
      "2                                                NaN  \n",
      "3  Copyright © 2020 南开大学 津教备0061号   津ICP备12003308号-1  \n",
      "4                                                NaN  \n"
     ]
    }
   ],
   "source": [
    "# 假设你已经加载了你的 data DataFrame\n",
    "cutted = cut_html(data)  # 执行分词操作，返回处理后的列表\n",
    "\n",
    "# 将处理后的数据转换为 DataFrame\n",
    "df_cutted = pd.DataFrame(cutted, columns=['url', 'title', 'description', 'date', 'content', 'editor'])\n",
    "\n",
    "# 保存为 CSV 文件\n",
    "df_cutted.to_csv('cutted_news_nku.csv', index=False, encoding='utf-8')\n",
    "\n",
    "# 打印输出结果的一部分进行调试\n",
    "print(df_cutted.head())"
   ]
  },
  {
   "cell_type": "code",
   "execution_count": 13,
   "metadata": {},
   "outputs": [
    {
     "name": "stdout",
     "output_type": "stream",
     "text": [
      "                                           url  \\\n",
      "0  https://news.tju.edu.cn/info/1005/73323.htm   \n",
      "1  https://news.tju.edu.cn/info/1005/73306.htm   \n",
      "2  https://news.tju.edu.cn/info/1005/73309.htm   \n",
      "3  https://news.tju.edu.cn/info/1005/73308.htm   \n",
      "4  https://news.tju.edu.cn/info/1005/73307.htm   \n",
      "\n",
      "                                               title  \\\n",
      "0   健康 健康报 创新 存储 方案 破解 医疗 数据 存储 难题 天津 大学 天津大学 新闻 新闻网   \n",
      "1      天津 教育 报 校企 共 探产教 协同 发展 新 路径 天津 大学 天津大学 新闻 新闻网   \n",
      "2  中国 新闻 新闻网 新质 生产 生产力 与 人才 培养 人才培养 论坛 召开 校企 共 探产...   \n",
      "3  央广网 新质 生产 生产力 与 人才 培养 人才培养 论坛 在 津 召开 天津 大学 天津大...   \n",
      "4  中国 科学 学报 科学报 校企 共商 新质 生产 生产力 与 人才 培养 人才培养 天津 大...   \n",
      "\n",
      "                                         description          date  \\\n",
      "0   健康 健康报 创新 存储 方案 破解 医疗 数据 存储 难题 天津 大学 天津大学 新闻 新闻网  1.730477e+09   \n",
      "1      天津 教育 报 校企 共 探产教 协同 发展 新 路径 天津 大学 天津大学 新闻 新闻网  1.730477e+09   \n",
      "2  中国 新闻 新闻网 新质 生产 生产力 与 人才 培养 人才培养 论坛 召开 校企 共 探产...  1.730477e+09   \n",
      "3  央广网 新质 生产 生产力 与 人才 培养 人才培养 论坛 在 津 召开 天津 大学 天津大...  1.730477e+09   \n",
      "4  中国 科学 学报 科学报 校企 共商 新质 生产 生产力 与 人才 培养 人才培养 天津 大...  1.730477e+09   \n",
      "\n",
      "                                             content        editor  \n",
      "0  健康 健康报 讯 特约 记者 特约记者 李哲 通讯 通讯员 赵晖 天津 大学 天津大学 合成...  （编辑 刘延俊 贺泳迪）  \n",
      "1  天津 教育 报讯 记者 刘 东岳 通讯 通讯员 潘静洲 月 日 新质 生产 生产力 与 人才...  （编辑 焦德芳 郭新婷）  \n",
      "2  中新 新网 中新网 天津 新闻 月 日电 月 日 新质 生产 生产力 与 人才 培养 人才培...  （编辑 刘延俊 贺泳迪）  \n",
      "3  央广 网讯 记者 张强 月 日 新质 生产 生产力 与 人才 培养 人才培养 论坛 在 天开...  （编辑 焦德芳 郭新婷）  \n",
      "4  中国 科学 学报 科学报 讯 记者 潘静洲 陈彬 月 日 新质 生产 生产力 与 人才 培养...  （编辑 焦德芳 郭新婷）  \n"
     ]
    }
   ],
   "source": [
    "# 假设你已经加载了你的 data DataFrame\n",
    "cutted = cut_html(data1)  # 执行分词操作，返回处理后的列表\n",
    "\n",
    "# 将处理后的数据转换为 DataFrame\n",
    "df_cutted = pd.DataFrame(cutted, columns=['url', 'title', 'description', 'date', 'content', 'editor'])\n",
    "\n",
    "# 保存为 CSV 文件\n",
    "df_cutted.to_csv('cutted_news_tju.csv', index=False, encoding='utf-8')\n",
    "\n",
    "# 打印输出结果的一部分进行调试\n",
    "print(df_cutted.head())"
   ]
  },
  {
   "cell_type": "code",
   "execution_count": 15,
   "metadata": {},
   "outputs": [
    {
     "name": "stdout",
     "output_type": "stream",
     "text": [
      "                                           url  \\\n",
      "0  https://news.tju.edu.cn/info/1005/73323.htm   \n",
      "1  https://news.tju.edu.cn/info/1005/73306.htm   \n",
      "2  https://news.tju.edu.cn/info/1005/73309.htm   \n",
      "3  https://news.tju.edu.cn/info/1005/73308.htm   \n",
      "4  https://news.tju.edu.cn/info/1005/73307.htm   \n",
      "\n",
      "                                               title  \\\n",
      "0   健康 健康报 创新 存储 方案 破解 医疗 数据 存储 难题 天津 大学 天津大学 新闻 新闻网   \n",
      "1      天津 教育 报 校企 共 探产教 协同 发展 新 路径 天津 大学 天津大学 新闻 新闻网   \n",
      "2  中国 新闻 新闻网 新质 生产 生产力 与 人才 培养 人才培养 论坛 召开 校企 共 探产...   \n",
      "3  央广网 新质 生产 生产力 与 人才 培养 人才培养 论坛 在 津 召开 天津 大学 天津大...   \n",
      "4  中国 科学 学报 科学报 校企 共商 新质 生产 生产力 与 人才 培养 人才培养 天津 大...   \n",
      "\n",
      "                                         description          date  \\\n",
      "0   健康 健康报 创新 存储 方案 破解 医疗 数据 存储 难题 天津 大学 天津大学 新闻 新闻网  1.730477e+09   \n",
      "1      天津 教育 报 校企 共 探产教 协同 发展 新 路径 天津 大学 天津大学 新闻 新闻网  1.730477e+09   \n",
      "2  中国 新闻 新闻网 新质 生产 生产力 与 人才 培养 人才培养 论坛 召开 校企 共 探产...  1.730477e+09   \n",
      "3  央广网 新质 生产 生产力 与 人才 培养 人才培养 论坛 在 津 召开 天津 大学 天津大...  1.730477e+09   \n",
      "4  中国 科学 学报 科学报 校企 共商 新质 生产 生产力 与 人才 培养 人才培养 天津 大...  1.730477e+09   \n",
      "\n",
      "                                             content        editor doc_link  \n",
      "0  健康 健康报 讯 特约 记者 特约记者 李哲 通讯 通讯员 赵晖 天津 大学 天津大学 合成...  （编辑 刘延俊 贺泳迪）      NaN  \n",
      "1  天津 教育 报讯 记者 刘 东岳 通讯 通讯员 潘静洲 月 日 新质 生产 生产力 与 人才...  （编辑 焦德芳 郭新婷）      NaN  \n",
      "2  中新 新网 中新网 天津 新闻 月 日电 月 日 新质 生产 生产力 与 人才 培养 人才培...  （编辑 刘延俊 贺泳迪）      NaN  \n",
      "3  央广 网讯 记者 张强 月 日 新质 生产 生产力 与 人才 培养 人才培养 论坛 在 天开...  （编辑 焦德芳 郭新婷）      NaN  \n",
      "4  中国 科学 学报 科学报 讯 记者 潘静洲 陈彬 月 日 新质 生产 生产力 与 人才 培养...  （编辑 焦德芳 郭新婷）      NaN  \n"
     ]
    }
   ],
   "source": [
    "import pandas as pd\n",
    "\n",
    "# 读取源 CSV 文件，假设文件名为 source.csv\n",
    "source_df = pd.read_csv('../spider/tju_allinfo.csv')\n",
    "\n",
    "# 读取目标 CSV 文件，假设文件名为 target.csv\n",
    "target_df = pd.read_csv('cutted_news_tju.csv')\n",
    "\n",
    "# 检查源 CSV 是否包含 'doc_link' 列\n",
    "if 'doc_link' in source_df.columns:\n",
    "    # 将源文件中的 'doc_link' 列添加到目标文件的最后一列\n",
    "    target_df['doc_link'] = source_df['doc_link']\n",
    "else:\n",
    "    print(\"源文件中没有 'doc_link' 列!\")\n",
    "\n",
    "# 保存更新后的目标 CSV 文件\n",
    "target_df.to_csv('cutted_tju.csv', index=False)\n",
    "\n",
    "# 打印前几行检查\n",
    "print(target_df.head())\n"
   ]
  },
  {
   "cell_type": "code",
   "execution_count": 1,
   "metadata": {},
   "outputs": [
    {
     "name": "stdout",
     "output_type": "stream",
     "text": [
      "                                           url  \\\n",
      "0  https://news.tju.edu.cn/info/1005/73323.htm   \n",
      "1  https://news.tju.edu.cn/info/1005/73306.htm   \n",
      "2  https://news.tju.edu.cn/info/1005/73309.htm   \n",
      "3  https://news.tju.edu.cn/info/1005/73308.htm   \n",
      "4  https://news.tju.edu.cn/info/1005/73307.htm   \n",
      "\n",
      "                                               title  \\\n",
      "0   健康 健康报 创新 存储 方案 破解 医疗 数据 存储 难题 天津 大学 天津大学 新闻 新闻网   \n",
      "1      天津 教育 报 校企 共 探产教 协同 发展 新 路径 天津 大学 天津大学 新闻 新闻网   \n",
      "2  中国 新闻 新闻网 新质 生产 生产力 与 人才 培养 人才培养 论坛 召开 校企 共 探产...   \n",
      "3  央广网 新质 生产 生产力 与 人才 培养 人才培养 论坛 在 津 召开 天津 大学 天津大...   \n",
      "4  中国 科学 学报 科学报 校企 共商 新质 生产 生产力 与 人才 培养 人才培养 天津 大...   \n",
      "\n",
      "                                         description          date  \\\n",
      "0   健康 健康报 创新 存储 方案 破解 医疗 数据 存储 难题 天津 大学 天津大学 新闻 新闻网  1.730477e+09   \n",
      "1      天津 教育 报 校企 共 探产教 协同 发展 新 路径 天津 大学 天津大学 新闻 新闻网  1.730477e+09   \n",
      "2  中国 新闻 新闻网 新质 生产 生产力 与 人才 培养 人才培养 论坛 召开 校企 共 探产...  1.730477e+09   \n",
      "3  央广网 新质 生产 生产力 与 人才 培养 人才培养 论坛 在 津 召开 天津 大学 天津大...  1.730477e+09   \n",
      "4  中国 科学 学报 科学报 校企 共商 新质 生产 生产力 与 人才 培养 人才培养 天津 大...  1.730477e+09   \n",
      "\n",
      "                                             content        editor doc_link  \n",
      "0  健康 健康报 讯 特约 记者 特约记者 李哲 通讯 通讯员 赵晖 天津 大学 天津大学 合成...  （编辑 刘延俊 贺泳迪）      NaN  \n",
      "1  天津 教育 报讯 记者 刘 东岳 通讯 通讯员 潘静洲 月 日 新质 生产 生产力 与 人才...  （编辑 焦德芳 郭新婷）      NaN  \n",
      "2  中新 新网 中新网 天津 新闻 月 日电 月 日 新质 生产 生产力 与 人才 培养 人才培...  （编辑 刘延俊 贺泳迪）      NaN  \n",
      "3  央广 网讯 记者 张强 月 日 新质 生产 生产力 与 人才 培养 人才培养 论坛 在 天开...  （编辑 焦德芳 郭新婷）      NaN  \n",
      "4  中国 科学 学报 科学报 讯 记者 潘静洲 陈彬 月 日 新质 生产 生产力 与 人才 培养...  （编辑 焦德芳 郭新婷）      NaN  \n"
     ]
    }
   ],
   "source": [
    "import pandas as pd\n",
    "\n",
    "# 读取第一个 CSV 文件\n",
    "df1 = pd.read_csv('cutted_tju.csv')\n",
    "\n",
    "# 读取第二个 CSV 文件\n",
    "df2 = pd.read_csv('cutted_nku.csv')\n",
    "\n",
    "# 按行合并（纵向拼接）\n",
    "concatenated_df = pd.concat([df1, df2], ignore_index=True)\n",
    "\n",
    "# 保存合并后的文件\n",
    "concatenated_df.to_csv('total_cutted_news.csv', index=False)\n",
    "\n",
    "# 打印合并后的前几行进行检查\n",
    "print(concatenated_df.head())\n"
   ]
  }
 ],
 "metadata": {
  "kernelspec": {
   "display_name": "Python 3",
   "language": "python",
   "name": "python3"
  },
  "language_info": {
   "codemirror_mode": {
    "name": "ipython",
    "version": 3
   },
   "file_extension": ".py",
   "mimetype": "text/x-python",
   "name": "python",
   "nbconvert_exporter": "python",
   "pygments_lexer": "ipython3",
   "version": "3.12.3"
  }
 },
 "nbformat": 4,
 "nbformat_minor": 0
}
